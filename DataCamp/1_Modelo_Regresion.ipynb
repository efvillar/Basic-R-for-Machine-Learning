{
 "cells": [
  {
   "cell_type": "markdown",
   "metadata": {},
   "source": [
    "# MODELO DE REGRESION"
   ]
  },
  {
   "cell_type": "markdown",
   "metadata": {},
   "source": [
    "## Primera Predicción"
   ]
  },
  {
   "cell_type": "code",
   "execution_count": 1,
   "metadata": {},
   "outputs": [
    {
     "name": "stderr",
     "output_type": "stream",
     "text": [
      "Loading required package: lattice\n",
      "Loading required package: ggplot2\n"
     ]
    }
   ],
   "source": [
    "#libreria para el calculo de modelos\n",
    "library(caret)"
   ]
  },
  {
   "cell_type": "code",
   "execution_count": 2,
   "metadata": {},
   "outputs": [],
   "source": [
    "#libreria que contiene los datos de los diamantes\n",
    "library(ggplot2)"
   ]
  },
  {
   "cell_type": "code",
   "execution_count": 3,
   "metadata": {},
   "outputs": [],
   "source": [
    "#se cargan los datos de diamantes\n",
    "data(diamonds)"
   ]
  },
  {
   "cell_type": "code",
   "execution_count": 4,
   "metadata": {},
   "outputs": [
    {
     "data": {
      "text/plain": [
       "     carat               cut        color        clarity          depth      \n",
       " Min.   :0.2000   Fair     : 1610   D: 6775   SI1    :13065   Min.   :43.00  \n",
       " 1st Qu.:0.4000   Good     : 4906   E: 9797   VS2    :12258   1st Qu.:61.00  \n",
       " Median :0.7000   Very Good:12082   F: 9542   SI2    : 9194   Median :61.80  \n",
       " Mean   :0.7979   Premium  :13791   G:11292   VS1    : 8171   Mean   :61.75  \n",
       " 3rd Qu.:1.0400   Ideal    :21551   H: 8304   VVS2   : 5066   3rd Qu.:62.50  \n",
       " Max.   :5.0100                     I: 5422   VVS1   : 3655   Max.   :79.00  \n",
       "                                    J: 2808   (Other): 2531                  \n",
       "     table           price             x                y         \n",
       " Min.   :43.00   Min.   :  326   Min.   : 0.000   Min.   : 0.000  \n",
       " 1st Qu.:56.00   1st Qu.:  950   1st Qu.: 4.710   1st Qu.: 4.720  \n",
       " Median :57.00   Median : 2401   Median : 5.700   Median : 5.710  \n",
       " Mean   :57.46   Mean   : 3933   Mean   : 5.731   Mean   : 5.735  \n",
       " 3rd Qu.:59.00   3rd Qu.: 5324   3rd Qu.: 6.540   3rd Qu.: 6.540  \n",
       " Max.   :95.00   Max.   :18823   Max.   :10.740   Max.   :58.900  \n",
       "                                                                  \n",
       "       z         \n",
       " Min.   : 0.000  \n",
       " 1st Qu.: 2.910  \n",
       " Median : 3.530  \n",
       " Mean   : 3.539  \n",
       " 3rd Qu.: 4.040  \n",
       " Max.   :31.800  \n",
       "                 "
      ]
     },
     "metadata": {},
     "output_type": "display_data"
    }
   ],
   "source": [
    "#primer analisis exploratorio\n",
    "summary(diamonds)"
   ]
  },
  {
   "cell_type": "code",
   "execution_count": 5,
   "metadata": {},
   "outputs": [
    {
     "name": "stdout",
     "output_type": "stream",
     "text": [
      "[1] 1129.843\n"
     ]
    }
   ],
   "source": [
    "# Fit lm model: model\n",
    "model <- lm(price ~ ., diamonds)\n",
    "\n",
    "# Predict on full data: p\n",
    "p <- predict(model, diamonds)\n",
    "\n",
    "# Compute errors: error\n",
    "error = (p - diamonds$price)\n",
    "\n",
    "# Calculate RMSE\n",
    "print (sqrt(mean((error)^2)))"
   ]
  },
  {
   "cell_type": "markdown",
   "metadata": {},
   "source": [
    "## Medición del error en validation set (train - validation split)"
   ]
  },
  {
   "cell_type": "code",
   "execution_count": 6,
   "metadata": {},
   "outputs": [],
   "source": [
    "# Set seed\n",
    "set.seed(42)\n",
    "\n",
    "# Shuffle row indices: rows\n",
    "rows <- sample(nrow(diamonds))\n",
    "\n",
    "# Randomly order data\n",
    "shuffled_diamonds <- diamonds[rows, ]"
   ]
  },
  {
   "cell_type": "code",
   "execution_count": 7,
   "metadata": {},
   "outputs": [],
   "source": [
    "# Determine row to split on: split\n",
    "split <- round(nrow(shuffled_diamonds) * .80)"
   ]
  },
  {
   "cell_type": "code",
   "execution_count": 8,
   "metadata": {},
   "outputs": [],
   "source": [
    "# Create train\n",
    "train = shuffled_diamonds[1:split, ]"
   ]
  },
  {
   "cell_type": "code",
   "execution_count": 9,
   "metadata": {},
   "outputs": [],
   "source": [
    "\n",
    "# Create train\n",
    "test = shuffled_diamonds[(split + 1):nrow(shuffled_diamonds), ]"
   ]
  },
  {
   "cell_type": "code",
   "execution_count": 10,
   "metadata": {},
   "outputs": [
    {
     "data": {
      "text/html": [
       "<ol class=list-inline>\n",
       "\t<li>43152</li>\n",
       "\t<li>10</li>\n",
       "</ol>\n"
      ],
      "text/latex": [
       "\\begin{enumerate*}\n",
       "\\item 43152\n",
       "\\item 10\n",
       "\\end{enumerate*}\n"
      ],
      "text/markdown": [
       "1. 43152\n",
       "2. 10\n",
       "\n",
       "\n"
      ],
      "text/plain": [
       "[1] 43152    10"
      ]
     },
     "metadata": {},
     "output_type": "display_data"
    }
   ],
   "source": [
    "dim(train)"
   ]
  },
  {
   "cell_type": "code",
   "execution_count": 11,
   "metadata": {},
   "outputs": [
    {
     "data": {
      "text/html": [
       "<table>\n",
       "<thead><tr><th scope=col>carat</th><th scope=col>cut</th><th scope=col>color</th><th scope=col>clarity</th><th scope=col>depth</th><th scope=col>table</th><th scope=col>price</th><th scope=col>x</th><th scope=col>y</th><th scope=col>z</th></tr></thead>\n",
       "<tbody>\n",
       "\t<tr><td>1.52     </td><td>Ideal    </td><td>F        </td><td>SI2      </td><td>61.2     </td><td>57       </td><td>9057     </td><td>7.45     </td><td>7.39     </td><td>4.54     </td></tr>\n",
       "\t<tr><td>0.76     </td><td>Ideal    </td><td>H        </td><td>VS2      </td><td>61.9     </td><td>55       </td><td>3016     </td><td>5.85     </td><td>5.88     </td><td>3.64     </td></tr>\n",
       "\t<tr><td>0.71     </td><td>Very Good</td><td>D        </td><td>SI1      </td><td>63.2     </td><td>56       </td><td>2652     </td><td>5.69     </td><td>5.73     </td><td>3.61     </td></tr>\n",
       "\t<tr><td>1.01     </td><td>Very Good</td><td>F        </td><td>VS2      </td><td>59.2     </td><td>60       </td><td>6204     </td><td>6.46     </td><td>6.51     </td><td>3.84     </td></tr>\n",
       "\t<tr><td>1.08     </td><td>Good     </td><td>E        </td><td>SI2      </td><td>63.7     </td><td>57       </td><td>4742     </td><td>6.54     </td><td>6.49     </td><td>4.15     </td></tr>\n",
       "\t<tr><td>1.02     </td><td>Premium  </td><td>H        </td><td>SI1      </td><td>60.3     </td><td>59       </td><td>4558     </td><td>6.50     </td><td>6.44     </td><td>3.90     </td></tr>\n",
       "</tbody>\n",
       "</table>\n"
      ],
      "text/latex": [
       "\\begin{tabular}{r|llllllllll}\n",
       " carat & cut & color & clarity & depth & table & price & x & y & z\\\\\n",
       "\\hline\n",
       "\t 1.52      & Ideal     & F         & SI2       & 61.2      & 57        & 9057      & 7.45      & 7.39      & 4.54     \\\\\n",
       "\t 0.76      & Ideal     & H         & VS2       & 61.9      & 55        & 3016      & 5.85      & 5.88      & 3.64     \\\\\n",
       "\t 0.71      & Very Good & D         & SI1       & 63.2      & 56        & 2652      & 5.69      & 5.73      & 3.61     \\\\\n",
       "\t 1.01      & Very Good & F         & VS2       & 59.2      & 60        & 6204      & 6.46      & 6.51      & 3.84     \\\\\n",
       "\t 1.08      & Good      & E         & SI2       & 63.7      & 57        & 4742      & 6.54      & 6.49      & 4.15     \\\\\n",
       "\t 1.02      & Premium   & H         & SI1       & 60.3      & 59        & 4558      & 6.50      & 6.44      & 3.90     \\\\\n",
       "\\end{tabular}\n"
      ],
      "text/markdown": [
       "\n",
       "| carat | cut | color | clarity | depth | table | price | x | y | z |\n",
       "|---|---|---|---|---|---|---|---|---|---|\n",
       "| 1.52      | Ideal     | F         | SI2       | 61.2      | 57        | 9057      | 7.45      | 7.39      | 4.54      |\n",
       "| 0.76      | Ideal     | H         | VS2       | 61.9      | 55        | 3016      | 5.85      | 5.88      | 3.64      |\n",
       "| 0.71      | Very Good | D         | SI1       | 63.2      | 56        | 2652      | 5.69      | 5.73      | 3.61      |\n",
       "| 1.01      | Very Good | F         | VS2       | 59.2      | 60        | 6204      | 6.46      | 6.51      | 3.84      |\n",
       "| 1.08      | Good      | E         | SI2       | 63.7      | 57        | 4742      | 6.54      | 6.49      | 4.15      |\n",
       "| 1.02      | Premium   | H         | SI1       | 60.3      | 59        | 4558      | 6.50      | 6.44      | 3.90      |\n",
       "\n"
      ],
      "text/plain": [
       "  carat cut       color clarity depth table price x    y    z   \n",
       "1 1.52  Ideal     F     SI2     61.2  57    9057  7.45 7.39 4.54\n",
       "2 0.76  Ideal     H     VS2     61.9  55    3016  5.85 5.88 3.64\n",
       "3 0.71  Very Good D     SI1     63.2  56    2652  5.69 5.73 3.61\n",
       "4 1.01  Very Good F     VS2     59.2  60    6204  6.46 6.51 3.84\n",
       "5 1.08  Good      E     SI2     63.7  57    4742  6.54 6.49 4.15\n",
       "6 1.02  Premium   H     SI1     60.3  59    4558  6.50 6.44 3.90"
      ]
     },
     "metadata": {},
     "output_type": "display_data"
    }
   ],
   "source": [
    "head(test)"
   ]
  },
  {
   "cell_type": "code",
   "execution_count": 12,
   "metadata": {},
   "outputs": [
    {
     "data": {
      "text/html": [
       "<table>\n",
       "<thead><tr><th scope=col>carat</th><th scope=col>cut</th><th scope=col>color</th><th scope=col>clarity</th><th scope=col>depth</th><th scope=col>table</th><th scope=col>price</th><th scope=col>x</th><th scope=col>y</th><th scope=col>z</th></tr></thead>\n",
       "<tbody>\n",
       "\t<tr><td>0.39     </td><td>Ideal    </td><td>I        </td><td>VVS2     </td><td>60.8     </td><td>56       </td><td> 849     </td><td>4.74     </td><td>4.76     </td><td>2.89     </td></tr>\n",
       "\t<tr><td>1.12     </td><td>Very Good</td><td>G        </td><td>SI2      </td><td>63.3     </td><td>58       </td><td>4478     </td><td>6.70     </td><td>6.63     </td><td>4.22     </td></tr>\n",
       "\t<tr><td>0.51     </td><td>Very Good</td><td>G        </td><td>VVS2     </td><td>62.9     </td><td>57       </td><td>1750     </td><td>5.06     </td><td>5.12     </td><td>3.20     </td></tr>\n",
       "\t<tr><td>0.52     </td><td>Very Good</td><td>D        </td><td>VS1      </td><td>62.5     </td><td>57       </td><td>1829     </td><td>5.11     </td><td>5.16     </td><td>3.21     </td></tr>\n",
       "\t<tr><td>0.28     </td><td>Very Good</td><td>E        </td><td>VVS2     </td><td>61.4     </td><td>55       </td><td> 612     </td><td>4.22     </td><td>4.25     </td><td>2.60     </td></tr>\n",
       "\t<tr><td>1.01     </td><td>Fair     </td><td>F        </td><td>SI1      </td><td>67.2     </td><td>60       </td><td>4276     </td><td>6.06     </td><td>6.00     </td><td>4.05     </td></tr>\n",
       "</tbody>\n",
       "</table>\n"
      ],
      "text/latex": [
       "\\begin{tabular}{r|llllllllll}\n",
       " carat & cut & color & clarity & depth & table & price & x & y & z\\\\\n",
       "\\hline\n",
       "\t 0.39      & Ideal     & I         & VVS2      & 60.8      & 56        &  849      & 4.74      & 4.76      & 2.89     \\\\\n",
       "\t 1.12      & Very Good & G         & SI2       & 63.3      & 58        & 4478      & 6.70      & 6.63      & 4.22     \\\\\n",
       "\t 0.51      & Very Good & G         & VVS2      & 62.9      & 57        & 1750      & 5.06      & 5.12      & 3.20     \\\\\n",
       "\t 0.52      & Very Good & D         & VS1       & 62.5      & 57        & 1829      & 5.11      & 5.16      & 3.21     \\\\\n",
       "\t 0.28      & Very Good & E         & VVS2      & 61.4      & 55        &  612      & 4.22      & 4.25      & 2.60     \\\\\n",
       "\t 1.01      & Fair      & F         & SI1       & 67.2      & 60        & 4276      & 6.06      & 6.00      & 4.05     \\\\\n",
       "\\end{tabular}\n"
      ],
      "text/markdown": [
       "\n",
       "| carat | cut | color | clarity | depth | table | price | x | y | z |\n",
       "|---|---|---|---|---|---|---|---|---|---|\n",
       "| 0.39      | Ideal     | I         | VVS2      | 60.8      | 56        |  849      | 4.74      | 4.76      | 2.89      |\n",
       "| 1.12      | Very Good | G         | SI2       | 63.3      | 58        | 4478      | 6.70      | 6.63      | 4.22      |\n",
       "| 0.51      | Very Good | G         | VVS2      | 62.9      | 57        | 1750      | 5.06      | 5.12      | 3.20      |\n",
       "| 0.52      | Very Good | D         | VS1       | 62.5      | 57        | 1829      | 5.11      | 5.16      | 3.21      |\n",
       "| 0.28      | Very Good | E         | VVS2      | 61.4      | 55        |  612      | 4.22      | 4.25      | 2.60      |\n",
       "| 1.01      | Fair      | F         | SI1       | 67.2      | 60        | 4276      | 6.06      | 6.00      | 4.05      |\n",
       "\n"
      ],
      "text/plain": [
       "  carat cut       color clarity depth table price x    y    z   \n",
       "1 0.39  Ideal     I     VVS2    60.8  56     849  4.74 4.76 2.89\n",
       "2 1.12  Very Good G     SI2     63.3  58    4478  6.70 6.63 4.22\n",
       "3 0.51  Very Good G     VVS2    62.9  57    1750  5.06 5.12 3.20\n",
       "4 0.52  Very Good D     VS1     62.5  57    1829  5.11 5.16 3.21\n",
       "5 0.28  Very Good E     VVS2    61.4  55     612  4.22 4.25 2.60\n",
       "6 1.01  Fair      F     SI1     67.2  60    4276  6.06 6.00 4.05"
      ]
     },
     "metadata": {},
     "output_type": "display_data"
    }
   ],
   "source": [
    "head(train)"
   ]
  },
  {
   "cell_type": "code",
   "execution_count": 13,
   "metadata": {},
   "outputs": [],
   "source": [
    "model <- lm(price ~ ., train)"
   ]
  },
  {
   "cell_type": "code",
   "execution_count": 14,
   "metadata": {},
   "outputs": [
    {
     "data": {
      "text/plain": [
       "\n",
       "Call:\n",
       "lm(formula = price ~ ., data = train)\n",
       "\n",
       "Residuals:\n",
       "     Min       1Q   Median       3Q      Max \n",
       "-21603.9   -590.5   -183.0    374.9  10703.1 \n",
       "\n",
       "Coefficients:\n",
       "              Estimate Std. Error  t value Pr(>|t|)    \n",
       "(Intercept)  5854.5827   438.1739   13.361  < 2e-16 ***\n",
       "carat       11327.0746    54.0289  209.648  < 2e-16 ***\n",
       "cut.L         584.4070    24.8930   23.477  < 2e-16 ***\n",
       "cut.Q        -302.6799    19.8928  -15.216  < 2e-16 ***\n",
       "cut.C         134.9793    17.1762    7.858 3.98e-15 ***\n",
       "cut^4         -22.1652    13.7830   -1.608 0.107808    \n",
       "color.L     -1954.9851    19.2870 -101.363  < 2e-16 ***\n",
       "color.Q      -671.8629    17.5339  -38.318  < 2e-16 ***\n",
       "color.C      -153.2405    16.3886   -9.350  < 2e-16 ***\n",
       "color^4        38.4909    15.0794    2.553 0.010697 *  \n",
       "color^5       -90.9988    14.2599   -6.381 1.77e-10 ***\n",
       "color^6       -47.6538    12.9676   -3.675 0.000238 ***\n",
       "clarity.L    4070.2745    33.5451  121.337  < 2e-16 ***\n",
       "clarity.Q   -1896.6900    31.2646  -60.666  < 2e-16 ***\n",
       "clarity.C     958.7737    26.7818   35.799  < 2e-16 ***\n",
       "clarity^4    -350.7628    21.4045  -16.387  < 2e-16 ***\n",
       "clarity^5     220.0704    17.5344   12.551  < 2e-16 ***\n",
       "clarity^6      13.5880    15.3304    0.886 0.375439    \n",
       "clarity^7      93.0199    13.5147    6.883 5.95e-12 ***\n",
       "depth         -63.1866     4.9796  -12.689  < 2e-16 ***\n",
       "table         -27.0851     3.2305   -8.384  < 2e-16 ***\n",
       "x           -1029.1660    34.6813  -29.675  < 2e-16 ***\n",
       "y              -0.8537    19.3778   -0.044 0.964861    \n",
       "z             -42.6558    34.3657   -1.241 0.214526    \n",
       "---\n",
       "Signif. codes:  0 '***' 0.001 '**' 0.01 '*' 0.05 '.' 0.1 ' ' 1\n",
       "\n",
       "Residual standard error: 1128 on 43128 degrees of freedom\n",
       "Multiple R-squared:  0.9205,\tAdjusted R-squared:  0.9205 \n",
       "F-statistic: 2.171e+04 on 23 and 43128 DF,  p-value: < 2.2e-16\n"
      ]
     },
     "metadata": {},
     "output_type": "display_data"
    }
   ],
   "source": [
    "summary(model)"
   ]
  },
  {
   "cell_type": "code",
   "execution_count": 15,
   "metadata": {},
   "outputs": [],
   "source": [
    "# Predict on test: p\n",
    "p <- predict(model, test)"
   ]
  },
  {
   "cell_type": "code",
   "execution_count": 16,
   "metadata": {},
   "outputs": [],
   "source": [
    "# Compute errors: error\n",
    "error = (p - test$price)"
   ]
  },
  {
   "cell_type": "code",
   "execution_count": 17,
   "metadata": {},
   "outputs": [
    {
     "data": {
      "text/html": [
       "1137.46611677371"
      ],
      "text/latex": [
       "1137.46611677371"
      ],
      "text/markdown": [
       "1137.46611677371"
      ],
      "text/plain": [
       "[1] 1137.466"
      ]
     },
     "metadata": {},
     "output_type": "display_data"
    }
   ],
   "source": [
    "# Calculate RMSE\n",
    "sqrt(mean(error^2))"
   ]
  },
  {
   "cell_type": "markdown",
   "metadata": {},
   "source": [
    "## Uso de cross validation para calculo del error"
   ]
  },
  {
   "cell_type": "markdown",
   "metadata": {},
   "source": [
    "Usando \"caret package\" se pueden usar varios modelos de predicion con la misma estructura de datos simplmente cambiando el parametro method, y se puede usar cross validation con el parametro trControl method \"cv\" y se elige k con number."
   ]
  },
  {
   "cell_type": "code",
   "execution_count": 19,
   "metadata": {},
   "outputs": [
    {
     "name": "stdout",
     "output_type": "stream",
     "text": [
      "+ Fold01: intercept=TRUE \n",
      "- Fold01: intercept=TRUE \n",
      "+ Fold02: intercept=TRUE \n",
      "- Fold02: intercept=TRUE \n",
      "+ Fold03: intercept=TRUE \n",
      "- Fold03: intercept=TRUE \n",
      "+ Fold04: intercept=TRUE \n",
      "- Fold04: intercept=TRUE \n",
      "+ Fold05: intercept=TRUE \n",
      "- Fold05: intercept=TRUE \n",
      "+ Fold06: intercept=TRUE \n",
      "- Fold06: intercept=TRUE \n",
      "+ Fold07: intercept=TRUE \n",
      "- Fold07: intercept=TRUE \n",
      "+ Fold08: intercept=TRUE \n",
      "- Fold08: intercept=TRUE \n",
      "+ Fold09: intercept=TRUE \n",
      "- Fold09: intercept=TRUE \n",
      "+ Fold10: intercept=TRUE \n",
      "- Fold10: intercept=TRUE \n",
      "Aggregating results\n",
      "Fitting final model on full training set\n"
     ]
    }
   ],
   "source": [
    "#10 k cross validation con usando todas las variables\n",
    "\n",
    "model <- train(price ~ ., diamonds,  method = \"lm\",\n",
    "  trControl = trainControl(\n",
    "    method = \"cv\", \n",
    "    number = 10,\n",
    "    verboseIter = TRUE\n",
    "  )\n",
    ")"
   ]
  },
  {
   "cell_type": "code",
   "execution_count": 20,
   "metadata": {},
   "outputs": [
    {
     "data": {
      "text/plain": [
       "\n",
       "Call:\n",
       "lm(formula = .outcome ~ ., data = dat)\n",
       "\n",
       "Residuals:\n",
       "     Min       1Q   Median       3Q      Max \n",
       "-21376.0   -592.4   -183.5    376.4  10694.2 \n",
       "\n",
       "Coefficients:\n",
       "             Estimate Std. Error  t value Pr(>|t|)    \n",
       "(Intercept)  5753.762    396.630   14.507  < 2e-16 ***\n",
       "carat       11256.978     48.628  231.494  < 2e-16 ***\n",
       "cut.L         584.457     22.478   26.001  < 2e-16 ***\n",
       "cut.Q        -301.908     17.994  -16.778  < 2e-16 ***\n",
       "cut.C         148.035     15.483    9.561  < 2e-16 ***\n",
       "`cut^4`       -20.794     12.377   -1.680  0.09294 .  \n",
       "color.L     -1952.160     17.342 -112.570  < 2e-16 ***\n",
       "color.Q      -672.054     15.777  -42.597  < 2e-16 ***\n",
       "color.C      -165.283     14.725  -11.225  < 2e-16 ***\n",
       "`color^4`      38.195     13.527    2.824  0.00475 ** \n",
       "`color^5`     -95.793     12.776   -7.498 6.59e-14 ***\n",
       "`color^6`     -48.466     11.614   -4.173 3.01e-05 ***\n",
       "clarity.L    4097.431     30.259  135.414  < 2e-16 ***\n",
       "clarity.Q   -1925.004     28.227  -68.197  < 2e-16 ***\n",
       "clarity.C     982.205     24.152   40.668  < 2e-16 ***\n",
       "`clarity^4`  -364.918     19.285  -18.922  < 2e-16 ***\n",
       "`clarity^5`   233.563     15.752   14.828  < 2e-16 ***\n",
       "`clarity^6`     6.883     13.715    0.502  0.61575    \n",
       "`clarity^7`    90.640     12.103    7.489 7.06e-14 ***\n",
       "depth         -63.806      4.535  -14.071  < 2e-16 ***\n",
       "table         -26.474      2.912   -9.092  < 2e-16 ***\n",
       "x           -1008.261     32.898  -30.648  < 2e-16 ***\n",
       "y               9.609     19.333    0.497  0.61918    \n",
       "z             -50.119     33.486   -1.497  0.13448    \n",
       "---\n",
       "Signif. codes:  0 '***' 0.001 '**' 0.01 '*' 0.05 '.' 0.1 ' ' 1\n",
       "\n",
       "Residual standard error: 1130 on 53916 degrees of freedom\n",
       "Multiple R-squared:  0.9198,\tAdjusted R-squared:  0.9198 \n",
       "F-statistic: 2.688e+04 on 23 and 53916 DF,  p-value: < 2.2e-16\n"
      ]
     },
     "metadata": {},
     "output_type": "display_data"
    }
   ],
   "source": [
    "summary(model)"
   ]
  },
  {
   "cell_type": "markdown",
   "metadata": {},
   "source": [
    "El paquete caret es muy flexible, aquí se ve como cambiando algunos parametros se puede aplicar el mismo modelo con otro valor de k a otra base de datos"
   ]
  },
  {
   "cell_type": "code",
   "execution_count": 24,
   "metadata": {},
   "outputs": [
    {
     "data": {
      "text/html": [
       "<table>\n",
       "<thead><tr><th scope=col>crim</th><th scope=col>zn</th><th scope=col>indus</th><th scope=col>chas</th><th scope=col>nox</th><th scope=col>rm</th><th scope=col>age</th><th scope=col>dis</th><th scope=col>rad</th><th scope=col>tax</th><th scope=col>ptratio</th><th scope=col>black</th><th scope=col>lstat</th><th scope=col>medv</th></tr></thead>\n",
       "<tbody>\n",
       "\t<tr><td>0.00632</td><td>18     </td><td>2.31   </td><td>0      </td><td>0.538  </td><td>6.575  </td><td>65.2   </td><td>4.0900 </td><td>1      </td><td>296    </td><td>15.3   </td><td>396.90 </td><td>4.98   </td><td>24.0   </td></tr>\n",
       "\t<tr><td>0.02731</td><td> 0     </td><td>7.07   </td><td>0      </td><td>0.469  </td><td>6.421  </td><td>78.9   </td><td>4.9671 </td><td>2      </td><td>242    </td><td>17.8   </td><td>396.90 </td><td>9.14   </td><td>21.6   </td></tr>\n",
       "\t<tr><td>0.02729</td><td> 0     </td><td>7.07   </td><td>0      </td><td>0.469  </td><td>7.185  </td><td>61.1   </td><td>4.9671 </td><td>2      </td><td>242    </td><td>17.8   </td><td>392.83 </td><td>4.03   </td><td>34.7   </td></tr>\n",
       "\t<tr><td>0.03237</td><td> 0     </td><td>2.18   </td><td>0      </td><td>0.458  </td><td>6.998  </td><td>45.8   </td><td>6.0622 </td><td>3      </td><td>222    </td><td>18.7   </td><td>394.63 </td><td>2.94   </td><td>33.4   </td></tr>\n",
       "\t<tr><td>0.06905</td><td> 0     </td><td>2.18   </td><td>0      </td><td>0.458  </td><td>7.147  </td><td>54.2   </td><td>6.0622 </td><td>3      </td><td>222    </td><td>18.7   </td><td>396.90 </td><td>5.33   </td><td>36.2   </td></tr>\n",
       "\t<tr><td>0.02985</td><td> 0     </td><td>2.18   </td><td>0      </td><td>0.458  </td><td>6.430  </td><td>58.7   </td><td>6.0622 </td><td>3      </td><td>222    </td><td>18.7   </td><td>394.12 </td><td>5.21   </td><td>28.7   </td></tr>\n",
       "</tbody>\n",
       "</table>\n"
      ],
      "text/latex": [
       "\\begin{tabular}{r|llllllllllllll}\n",
       " crim & zn & indus & chas & nox & rm & age & dis & rad & tax & ptratio & black & lstat & medv\\\\\n",
       "\\hline\n",
       "\t 0.00632 & 18      & 2.31    & 0       & 0.538   & 6.575   & 65.2    & 4.0900  & 1       & 296     & 15.3    & 396.90  & 4.98    & 24.0   \\\\\n",
       "\t 0.02731 &  0      & 7.07    & 0       & 0.469   & 6.421   & 78.9    & 4.9671  & 2       & 242     & 17.8    & 396.90  & 9.14    & 21.6   \\\\\n",
       "\t 0.02729 &  0      & 7.07    & 0       & 0.469   & 7.185   & 61.1    & 4.9671  & 2       & 242     & 17.8    & 392.83  & 4.03    & 34.7   \\\\\n",
       "\t 0.03237 &  0      & 2.18    & 0       & 0.458   & 6.998   & 45.8    & 6.0622  & 3       & 222     & 18.7    & 394.63  & 2.94    & 33.4   \\\\\n",
       "\t 0.06905 &  0      & 2.18    & 0       & 0.458   & 7.147   & 54.2    & 6.0622  & 3       & 222     & 18.7    & 396.90  & 5.33    & 36.2   \\\\\n",
       "\t 0.02985 &  0      & 2.18    & 0       & 0.458   & 6.430   & 58.7    & 6.0622  & 3       & 222     & 18.7    & 394.12  & 5.21    & 28.7   \\\\\n",
       "\\end{tabular}\n"
      ],
      "text/markdown": [
       "\n",
       "| crim | zn | indus | chas | nox | rm | age | dis | rad | tax | ptratio | black | lstat | medv |\n",
       "|---|---|---|---|---|---|---|---|---|---|---|---|---|---|\n",
       "| 0.00632 | 18      | 2.31    | 0       | 0.538   | 6.575   | 65.2    | 4.0900  | 1       | 296     | 15.3    | 396.90  | 4.98    | 24.0    |\n",
       "| 0.02731 |  0      | 7.07    | 0       | 0.469   | 6.421   | 78.9    | 4.9671  | 2       | 242     | 17.8    | 396.90  | 9.14    | 21.6    |\n",
       "| 0.02729 |  0      | 7.07    | 0       | 0.469   | 7.185   | 61.1    | 4.9671  | 2       | 242     | 17.8    | 392.83  | 4.03    | 34.7    |\n",
       "| 0.03237 |  0      | 2.18    | 0       | 0.458   | 6.998   | 45.8    | 6.0622  | 3       | 222     | 18.7    | 394.63  | 2.94    | 33.4    |\n",
       "| 0.06905 |  0      | 2.18    | 0       | 0.458   | 7.147   | 54.2    | 6.0622  | 3       | 222     | 18.7    | 396.90  | 5.33    | 36.2    |\n",
       "| 0.02985 |  0      | 2.18    | 0       | 0.458   | 6.430   | 58.7    | 6.0622  | 3       | 222     | 18.7    | 394.12  | 5.21    | 28.7    |\n",
       "\n"
      ],
      "text/plain": [
       "  crim    zn indus chas nox   rm    age  dis    rad tax ptratio black  lstat\n",
       "1 0.00632 18 2.31  0    0.538 6.575 65.2 4.0900 1   296 15.3    396.90 4.98 \n",
       "2 0.02731  0 7.07  0    0.469 6.421 78.9 4.9671 2   242 17.8    396.90 9.14 \n",
       "3 0.02729  0 7.07  0    0.469 7.185 61.1 4.9671 2   242 17.8    392.83 4.03 \n",
       "4 0.03237  0 2.18  0    0.458 6.998 45.8 6.0622 3   222 18.7    394.63 2.94 \n",
       "5 0.06905  0 2.18  0    0.458 7.147 54.2 6.0622 3   222 18.7    396.90 5.33 \n",
       "6 0.02985  0 2.18  0    0.458 6.430 58.7 6.0622 3   222 18.7    394.12 5.21 \n",
       "  medv\n",
       "1 24.0\n",
       "2 21.6\n",
       "3 34.7\n",
       "4 33.4\n",
       "5 36.2\n",
       "6 28.7"
      ]
     },
     "metadata": {},
     "output_type": "display_data"
    }
   ],
   "source": [
    "library(MASS)\n",
    "head(Boston)"
   ]
  },
  {
   "cell_type": "code",
   "execution_count": 25,
   "metadata": {},
   "outputs": [
    {
     "name": "stdout",
     "output_type": "stream",
     "text": [
      "+ Fold1: intercept=TRUE \n",
      "- Fold1: intercept=TRUE \n",
      "+ Fold2: intercept=TRUE \n",
      "- Fold2: intercept=TRUE \n",
      "+ Fold3: intercept=TRUE \n",
      "- Fold3: intercept=TRUE \n",
      "+ Fold4: intercept=TRUE \n",
      "- Fold4: intercept=TRUE \n",
      "+ Fold5: intercept=TRUE \n",
      "- Fold5: intercept=TRUE \n",
      "Aggregating results\n",
      "Fitting final model on full training set\n"
     ]
    }
   ],
   "source": [
    "model <- train(\n",
    "  medv ~ ., \n",
    "  Boston,\n",
    "  method = \"lm\",\n",
    "  trControl = trainControl(\n",
    "    method = \"cv\", \n",
    "    number = 5,\n",
    "    verboseIter = TRUE\n",
    "  )\n",
    ")"
   ]
  },
  {
   "cell_type": "code",
   "execution_count": 26,
   "metadata": {},
   "outputs": [
    {
     "data": {
      "text/plain": [
       "\n",
       "Call:\n",
       "lm(formula = .outcome ~ ., data = dat)\n",
       "\n",
       "Residuals:\n",
       "    Min      1Q  Median      3Q     Max \n",
       "-15.595  -2.730  -0.518   1.777  26.199 \n",
       "\n",
       "Coefficients:\n",
       "              Estimate Std. Error t value Pr(>|t|)    \n",
       "(Intercept)  3.646e+01  5.103e+00   7.144 3.28e-12 ***\n",
       "crim        -1.080e-01  3.286e-02  -3.287 0.001087 ** \n",
       "zn           4.642e-02  1.373e-02   3.382 0.000778 ***\n",
       "indus        2.056e-02  6.150e-02   0.334 0.738288    \n",
       "chas         2.687e+00  8.616e-01   3.118 0.001925 ** \n",
       "nox         -1.777e+01  3.820e+00  -4.651 4.25e-06 ***\n",
       "rm           3.810e+00  4.179e-01   9.116  < 2e-16 ***\n",
       "age          6.922e-04  1.321e-02   0.052 0.958229    \n",
       "dis         -1.476e+00  1.995e-01  -7.398 6.01e-13 ***\n",
       "rad          3.060e-01  6.635e-02   4.613 5.07e-06 ***\n",
       "tax         -1.233e-02  3.760e-03  -3.280 0.001112 ** \n",
       "ptratio     -9.527e-01  1.308e-01  -7.283 1.31e-12 ***\n",
       "black        9.312e-03  2.686e-03   3.467 0.000573 ***\n",
       "lstat       -5.248e-01  5.072e-02 -10.347  < 2e-16 ***\n",
       "---\n",
       "Signif. codes:  0 '***' 0.001 '**' 0.01 '*' 0.05 '.' 0.1 ' ' 1\n",
       "\n",
       "Residual standard error: 4.745 on 492 degrees of freedom\n",
       "Multiple R-squared:  0.7406,\tAdjusted R-squared:  0.7338 \n",
       "F-statistic: 108.1 on 13 and 492 DF,  p-value: < 2.2e-16\n"
      ]
     },
     "metadata": {},
     "output_type": "display_data"
    }
   ],
   "source": [
    "summary(model)"
   ]
  },
  {
   "cell_type": "markdown",
   "metadata": {},
   "source": [
    "El paquete caret permite hacer repeticiones de cross validation, simplemente cambiando el metodo cv por repeatedcv y ajustando el parametro repeats.  Se puede obtener una mejor estimación del error out of sample"
   ]
  },
  {
   "cell_type": "code",
   "execution_count": 28,
   "metadata": {},
   "outputs": [
    {
     "name": "stdout",
     "output_type": "stream",
     "text": [
      "+ Fold1.Rep1: intercept=TRUE \n",
      "- Fold1.Rep1: intercept=TRUE \n",
      "+ Fold2.Rep1: intercept=TRUE \n",
      "- Fold2.Rep1: intercept=TRUE \n",
      "+ Fold3.Rep1: intercept=TRUE \n",
      "- Fold3.Rep1: intercept=TRUE \n",
      "+ Fold4.Rep1: intercept=TRUE \n",
      "- Fold4.Rep1: intercept=TRUE \n",
      "+ Fold5.Rep1: intercept=TRUE \n",
      "- Fold5.Rep1: intercept=TRUE \n",
      "+ Fold1.Rep2: intercept=TRUE \n",
      "- Fold1.Rep2: intercept=TRUE \n",
      "+ Fold2.Rep2: intercept=TRUE \n",
      "- Fold2.Rep2: intercept=TRUE \n",
      "+ Fold3.Rep2: intercept=TRUE \n",
      "- Fold3.Rep2: intercept=TRUE \n",
      "+ Fold4.Rep2: intercept=TRUE \n",
      "- Fold4.Rep2: intercept=TRUE \n",
      "+ Fold5.Rep2: intercept=TRUE \n",
      "- Fold5.Rep2: intercept=TRUE \n",
      "+ Fold1.Rep3: intercept=TRUE \n",
      "- Fold1.Rep3: intercept=TRUE \n",
      "+ Fold2.Rep3: intercept=TRUE \n",
      "- Fold2.Rep3: intercept=TRUE \n",
      "+ Fold3.Rep3: intercept=TRUE \n",
      "- Fold3.Rep3: intercept=TRUE \n",
      "+ Fold4.Rep3: intercept=TRUE \n",
      "- Fold4.Rep3: intercept=TRUE \n",
      "+ Fold5.Rep3: intercept=TRUE \n",
      "- Fold5.Rep3: intercept=TRUE \n",
      "+ Fold1.Rep4: intercept=TRUE \n",
      "- Fold1.Rep4: intercept=TRUE \n",
      "+ Fold2.Rep4: intercept=TRUE \n",
      "- Fold2.Rep4: intercept=TRUE \n",
      "+ Fold3.Rep4: intercept=TRUE \n",
      "- Fold3.Rep4: intercept=TRUE \n",
      "+ Fold4.Rep4: intercept=TRUE \n",
      "- Fold4.Rep4: intercept=TRUE \n",
      "+ Fold5.Rep4: intercept=TRUE \n",
      "- Fold5.Rep4: intercept=TRUE \n",
      "+ Fold1.Rep5: intercept=TRUE \n",
      "- Fold1.Rep5: intercept=TRUE \n",
      "+ Fold2.Rep5: intercept=TRUE \n",
      "- Fold2.Rep5: intercept=TRUE \n",
      "+ Fold3.Rep5: intercept=TRUE \n",
      "- Fold3.Rep5: intercept=TRUE \n",
      "+ Fold4.Rep5: intercept=TRUE \n",
      "- Fold4.Rep5: intercept=TRUE \n",
      "+ Fold5.Rep5: intercept=TRUE \n",
      "- Fold5.Rep5: intercept=TRUE \n",
      "Aggregating results\n",
      "Fitting final model on full training set\n"
     ]
    }
   ],
   "source": [
    "# Fit lm model using 5 x 5-fold CV: model\n",
    "model <- train(\n",
    "  medv ~ ., \n",
    "  Boston,\n",
    "  method = \"lm\",\n",
    "  trControl = trainControl(\n",
    "    method = \"repeatedcv\", \n",
    "    number = 5,\n",
    "    repeats = 5, \n",
    "    verboseIter = TRUE\n",
    "  )\n",
    ")"
   ]
  },
  {
   "cell_type": "code",
   "execution_count": 29,
   "metadata": {},
   "outputs": [
    {
     "data": {
      "text/plain": [
       "\n",
       "Call:\n",
       "lm(formula = .outcome ~ ., data = dat)\n",
       "\n",
       "Residuals:\n",
       "    Min      1Q  Median      3Q     Max \n",
       "-15.595  -2.730  -0.518   1.777  26.199 \n",
       "\n",
       "Coefficients:\n",
       "              Estimate Std. Error t value Pr(>|t|)    \n",
       "(Intercept)  3.646e+01  5.103e+00   7.144 3.28e-12 ***\n",
       "crim        -1.080e-01  3.286e-02  -3.287 0.001087 ** \n",
       "zn           4.642e-02  1.373e-02   3.382 0.000778 ***\n",
       "indus        2.056e-02  6.150e-02   0.334 0.738288    \n",
       "chas         2.687e+00  8.616e-01   3.118 0.001925 ** \n",
       "nox         -1.777e+01  3.820e+00  -4.651 4.25e-06 ***\n",
       "rm           3.810e+00  4.179e-01   9.116  < 2e-16 ***\n",
       "age          6.922e-04  1.321e-02   0.052 0.958229    \n",
       "dis         -1.476e+00  1.995e-01  -7.398 6.01e-13 ***\n",
       "rad          3.060e-01  6.635e-02   4.613 5.07e-06 ***\n",
       "tax         -1.233e-02  3.760e-03  -3.280 0.001112 ** \n",
       "ptratio     -9.527e-01  1.308e-01  -7.283 1.31e-12 ***\n",
       "black        9.312e-03  2.686e-03   3.467 0.000573 ***\n",
       "lstat       -5.248e-01  5.072e-02 -10.347  < 2e-16 ***\n",
       "---\n",
       "Signif. codes:  0 '***' 0.001 '**' 0.01 '*' 0.05 '.' 0.1 ' ' 1\n",
       "\n",
       "Residual standard error: 4.745 on 492 degrees of freedom\n",
       "Multiple R-squared:  0.7406,\tAdjusted R-squared:  0.7338 \n",
       "F-statistic: 108.1 on 13 and 492 DF,  p-value: < 2.2e-16\n"
      ]
     },
     "metadata": {},
     "output_type": "display_data"
    }
   ],
   "source": [
    "summary(model)"
   ]
  },
  {
   "cell_type": "markdown",
   "metadata": {},
   "source": [
    "### Se pueden hacer prediciones con el metodo predict"
   ]
  },
  {
   "cell_type": "code",
   "execution_count": 30,
   "metadata": {},
   "outputs": [
    {
     "name": "stdout",
     "output_type": "stream",
     "text": [
      "       1        2        3        4        5        6        7        8 \n",
      "30.00384 25.02556 30.56760 28.60704 27.94352 25.25628 23.00181 19.53599 \n",
      "       9       10 \n",
      "11.52364 18.92026 \n"
     ]
    }
   ],
   "source": [
    "p = predict(model, Boston)\n",
    "print (p[1:10])"
   ]
  },
  {
   "cell_type": "code",
   "execution_count": null,
   "metadata": {},
   "outputs": [],
   "source": []
  }
 ],
 "metadata": {
  "kernelspec": {
   "display_name": "R",
   "language": "R",
   "name": "ir"
  },
  "language_info": {
   "codemirror_mode": "r",
   "file_extension": ".r",
   "mimetype": "text/x-r-source",
   "name": "R",
   "pygments_lexer": "r",
   "version": "3.6.0"
  }
 },
 "nbformat": 4,
 "nbformat_minor": 2
}
